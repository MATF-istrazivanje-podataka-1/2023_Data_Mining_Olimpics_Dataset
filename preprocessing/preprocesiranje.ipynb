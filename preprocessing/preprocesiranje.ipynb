{
 "cells": [
  {
   "cell_type": "code",
   "execution_count": 2,
   "id": "de60718f",
   "metadata": {},
   "outputs": [],
   "source": [
    "import numpy as np\n",
    "import pandas as pd\n",
    "import joblib\n",
    "import matplotlib.pyplot as plt"
   ]
  },
  {
   "cell_type": "code",
   "execution_count": 3,
   "id": "02c2e9b5",
   "metadata": {},
   "outputs": [],
   "source": [
    "data = pd.read_csv('bez_nedostajucih.csv')"
   ]
  },
  {
   "cell_type": "code",
   "execution_count": 4,
   "id": "1789b2b4",
   "metadata": {},
   "outputs": [
    {
     "data": {
      "text/html": [
       "<div>\n",
       "<style scoped>\n",
       "    .dataframe tbody tr th:only-of-type {\n",
       "        vertical-align: middle;\n",
       "    }\n",
       "\n",
       "    .dataframe tbody tr th {\n",
       "        vertical-align: top;\n",
       "    }\n",
       "\n",
       "    .dataframe thead th {\n",
       "        text-align: right;\n",
       "    }\n",
       "</style>\n",
       "<table border=\"1\" class=\"dataframe\">\n",
       "  <thead>\n",
       "    <tr style=\"text-align: right;\">\n",
       "      <th></th>\n",
       "      <th>ID</th>\n",
       "      <th>Name</th>\n",
       "      <th>Sex</th>\n",
       "      <th>Age</th>\n",
       "      <th>Height</th>\n",
       "      <th>Weight</th>\n",
       "      <th>Team</th>\n",
       "      <th>NOC</th>\n",
       "      <th>Games</th>\n",
       "      <th>Year</th>\n",
       "      <th>Season</th>\n",
       "      <th>City</th>\n",
       "      <th>Sport</th>\n",
       "      <th>Event</th>\n",
       "      <th>Medal</th>\n",
       "    </tr>\n",
       "  </thead>\n",
       "  <tbody>\n",
       "    <tr>\n",
       "      <th>0</th>\n",
       "      <td>1</td>\n",
       "      <td>A Dijiang</td>\n",
       "      <td>M</td>\n",
       "      <td>24.0</td>\n",
       "      <td>180.0</td>\n",
       "      <td>80.0</td>\n",
       "      <td>China</td>\n",
       "      <td>CHN</td>\n",
       "      <td>1992 Summer</td>\n",
       "      <td>1992</td>\n",
       "      <td>Summer</td>\n",
       "      <td>Barcelona</td>\n",
       "      <td>Basketball</td>\n",
       "      <td>Basketball Men's Basketball</td>\n",
       "      <td>NaN</td>\n",
       "    </tr>\n",
       "    <tr>\n",
       "      <th>1</th>\n",
       "      <td>2</td>\n",
       "      <td>A Lamusi</td>\n",
       "      <td>M</td>\n",
       "      <td>23.0</td>\n",
       "      <td>170.0</td>\n",
       "      <td>60.0</td>\n",
       "      <td>China</td>\n",
       "      <td>CHN</td>\n",
       "      <td>2012 Summer</td>\n",
       "      <td>2012</td>\n",
       "      <td>Summer</td>\n",
       "      <td>London</td>\n",
       "      <td>Judo</td>\n",
       "      <td>Judo Men's Extra-Lightweight</td>\n",
       "      <td>NaN</td>\n",
       "    </tr>\n",
       "    <tr>\n",
       "      <th>2</th>\n",
       "      <td>5</td>\n",
       "      <td>Christine Jacoba Aaftink</td>\n",
       "      <td>F</td>\n",
       "      <td>21.0</td>\n",
       "      <td>185.0</td>\n",
       "      <td>82.0</td>\n",
       "      <td>Netherlands</td>\n",
       "      <td>NED</td>\n",
       "      <td>1988 Winter</td>\n",
       "      <td>1988</td>\n",
       "      <td>Winter</td>\n",
       "      <td>Calgary</td>\n",
       "      <td>Speed Skating</td>\n",
       "      <td>Speed Skating Women's 500 metres</td>\n",
       "      <td>NaN</td>\n",
       "    </tr>\n",
       "    <tr>\n",
       "      <th>3</th>\n",
       "      <td>5</td>\n",
       "      <td>Christine Jacoba Aaftink</td>\n",
       "      <td>F</td>\n",
       "      <td>21.0</td>\n",
       "      <td>185.0</td>\n",
       "      <td>82.0</td>\n",
       "      <td>Netherlands</td>\n",
       "      <td>NED</td>\n",
       "      <td>1988 Winter</td>\n",
       "      <td>1988</td>\n",
       "      <td>Winter</td>\n",
       "      <td>Calgary</td>\n",
       "      <td>Speed Skating</td>\n",
       "      <td>Speed Skating Women's 1,000 metres</td>\n",
       "      <td>NaN</td>\n",
       "    </tr>\n",
       "    <tr>\n",
       "      <th>4</th>\n",
       "      <td>5</td>\n",
       "      <td>Christine Jacoba Aaftink</td>\n",
       "      <td>F</td>\n",
       "      <td>25.0</td>\n",
       "      <td>185.0</td>\n",
       "      <td>82.0</td>\n",
       "      <td>Netherlands</td>\n",
       "      <td>NED</td>\n",
       "      <td>1992 Winter</td>\n",
       "      <td>1992</td>\n",
       "      <td>Winter</td>\n",
       "      <td>Albertville</td>\n",
       "      <td>Speed Skating</td>\n",
       "      <td>Speed Skating Women's 500 metres</td>\n",
       "      <td>NaN</td>\n",
       "    </tr>\n",
       "  </tbody>\n",
       "</table>\n",
       "</div>"
      ],
      "text/plain": [
       "   ID                      Name Sex   Age  Height  Weight         Team  NOC   \n",
       "0   1                 A Dijiang   M  24.0   180.0    80.0        China  CHN  \\\n",
       "1   2                  A Lamusi   M  23.0   170.0    60.0        China  CHN   \n",
       "2   5  Christine Jacoba Aaftink   F  21.0   185.0    82.0  Netherlands  NED   \n",
       "3   5  Christine Jacoba Aaftink   F  21.0   185.0    82.0  Netherlands  NED   \n",
       "4   5  Christine Jacoba Aaftink   F  25.0   185.0    82.0  Netherlands  NED   \n",
       "\n",
       "         Games  Year  Season         City          Sport   \n",
       "0  1992 Summer  1992  Summer    Barcelona     Basketball  \\\n",
       "1  2012 Summer  2012  Summer       London           Judo   \n",
       "2  1988 Winter  1988  Winter      Calgary  Speed Skating   \n",
       "3  1988 Winter  1988  Winter      Calgary  Speed Skating   \n",
       "4  1992 Winter  1992  Winter  Albertville  Speed Skating   \n",
       "\n",
       "                                Event Medal  \n",
       "0         Basketball Men's Basketball   NaN  \n",
       "1        Judo Men's Extra-Lightweight   NaN  \n",
       "2    Speed Skating Women's 500 metres   NaN  \n",
       "3  Speed Skating Women's 1,000 metres   NaN  \n",
       "4    Speed Skating Women's 500 metres   NaN  "
      ]
     },
     "execution_count": 4,
     "metadata": {},
     "output_type": "execute_result"
    }
   ],
   "source": [
    "data.head()"
   ]
  },
  {
   "cell_type": "markdown",
   "id": "27a54c68",
   "metadata": {},
   "source": [
    "### Kodiranje kategorickih atributa i izbacivanje nepotrebnih kolona"
   ]
  },
  {
   "cell_type": "code",
   "execution_count": 5,
   "id": "39f48e83",
   "metadata": {},
   "outputs": [],
   "source": [
    "from sklearn.preprocessing import LabelEncoder\n",
    "label_encoder = LabelEncoder()"
   ]
  },
  {
   "cell_type": "code",
   "execution_count": 6,
   "id": "f330d506",
   "metadata": {},
   "outputs": [],
   "source": [
    "def mapi(str):\n",
    "    if 'Summer' in str:\n",
    "        return 0\n",
    "    if 'Winter' in str:\n",
    "        return 1\n",
    "    else:\n",
    "        return None"
   ]
  },
  {
   "cell_type": "markdown",
   "id": "e32acde0",
   "metadata": {},
   "source": [
    "Izbacujemo kolone koje nam nisu potrebne."
   ]
  },
  {
   "cell_type": "code",
   "execution_count": 7,
   "id": "e8790feb",
   "metadata": {},
   "outputs": [],
   "source": [
    "nesto = data.drop(columns = ['ID', 'Name', 'Team', 'City', 'Event', 'Season', 'Year'])"
   ]
  },
  {
   "cell_type": "code",
   "execution_count": 8,
   "id": "83458b4c",
   "metadata": {},
   "outputs": [],
   "source": [
    "kolone = nesto.columns.to_list()"
   ]
  },
  {
   "cell_type": "code",
   "execution_count": 9,
   "id": "92e37f80",
   "metadata": {},
   "outputs": [],
   "source": [
    "spss_data = nesto[kolone]\n",
    "spss_data['Medal'].fillna('No_Medal', inplace= True)"
   ]
  },
  {
   "cell_type": "code",
   "execution_count": 10,
   "id": "98dbf40d",
   "metadata": {},
   "outputs": [
    {
     "data": {
      "text/html": [
       "<div>\n",
       "<style scoped>\n",
       "    .dataframe tbody tr th:only-of-type {\n",
       "        vertical-align: middle;\n",
       "    }\n",
       "\n",
       "    .dataframe tbody tr th {\n",
       "        vertical-align: top;\n",
       "    }\n",
       "\n",
       "    .dataframe thead th {\n",
       "        text-align: right;\n",
       "    }\n",
       "</style>\n",
       "<table border=\"1\" class=\"dataframe\">\n",
       "  <thead>\n",
       "    <tr style=\"text-align: right;\">\n",
       "      <th></th>\n",
       "      <th>Sex</th>\n",
       "      <th>Age</th>\n",
       "      <th>Height</th>\n",
       "      <th>Weight</th>\n",
       "      <th>NOC</th>\n",
       "      <th>Games</th>\n",
       "      <th>Sport</th>\n",
       "      <th>Medal</th>\n",
       "    </tr>\n",
       "  </thead>\n",
       "  <tbody>\n",
       "    <tr>\n",
       "      <th>0</th>\n",
       "      <td>M</td>\n",
       "      <td>24.0</td>\n",
       "      <td>180.0</td>\n",
       "      <td>80.0</td>\n",
       "      <td>CHN</td>\n",
       "      <td>1992 Summer</td>\n",
       "      <td>Basketball</td>\n",
       "      <td>No_Medal</td>\n",
       "    </tr>\n",
       "    <tr>\n",
       "      <th>1</th>\n",
       "      <td>M</td>\n",
       "      <td>23.0</td>\n",
       "      <td>170.0</td>\n",
       "      <td>60.0</td>\n",
       "      <td>CHN</td>\n",
       "      <td>2012 Summer</td>\n",
       "      <td>Judo</td>\n",
       "      <td>No_Medal</td>\n",
       "    </tr>\n",
       "    <tr>\n",
       "      <th>2</th>\n",
       "      <td>F</td>\n",
       "      <td>21.0</td>\n",
       "      <td>185.0</td>\n",
       "      <td>82.0</td>\n",
       "      <td>NED</td>\n",
       "      <td>1988 Winter</td>\n",
       "      <td>Speed Skating</td>\n",
       "      <td>No_Medal</td>\n",
       "    </tr>\n",
       "    <tr>\n",
       "      <th>3</th>\n",
       "      <td>F</td>\n",
       "      <td>21.0</td>\n",
       "      <td>185.0</td>\n",
       "      <td>82.0</td>\n",
       "      <td>NED</td>\n",
       "      <td>1988 Winter</td>\n",
       "      <td>Speed Skating</td>\n",
       "      <td>No_Medal</td>\n",
       "    </tr>\n",
       "    <tr>\n",
       "      <th>4</th>\n",
       "      <td>F</td>\n",
       "      <td>25.0</td>\n",
       "      <td>185.0</td>\n",
       "      <td>82.0</td>\n",
       "      <td>NED</td>\n",
       "      <td>1992 Winter</td>\n",
       "      <td>Speed Skating</td>\n",
       "      <td>No_Medal</td>\n",
       "    </tr>\n",
       "    <tr>\n",
       "      <th>...</th>\n",
       "      <td>...</td>\n",
       "      <td>...</td>\n",
       "      <td>...</td>\n",
       "      <td>...</td>\n",
       "      <td>...</td>\n",
       "      <td>...</td>\n",
       "      <td>...</td>\n",
       "      <td>...</td>\n",
       "    </tr>\n",
       "    <tr>\n",
       "      <th>52261</th>\n",
       "      <td>M</td>\n",
       "      <td>20.0</td>\n",
       "      <td>160.0</td>\n",
       "      <td>56.0</td>\n",
       "      <td>IRL</td>\n",
       "      <td>1964 Summer</td>\n",
       "      <td>Boxing</td>\n",
       "      <td>No_Medal</td>\n",
       "    </tr>\n",
       "    <tr>\n",
       "      <th>52262</th>\n",
       "      <td>M</td>\n",
       "      <td>20.0</td>\n",
       "      <td>192.0</td>\n",
       "      <td>93.0</td>\n",
       "      <td>AUS</td>\n",
       "      <td>2016 Summer</td>\n",
       "      <td>Canoeing</td>\n",
       "      <td>No_Medal</td>\n",
       "    </tr>\n",
       "    <tr>\n",
       "      <th>52263</th>\n",
       "      <td>M</td>\n",
       "      <td>26.0</td>\n",
       "      <td>170.0</td>\n",
       "      <td>65.0</td>\n",
       "      <td>AUS</td>\n",
       "      <td>1976 Summer</td>\n",
       "      <td>Athletics</td>\n",
       "      <td>No_Medal</td>\n",
       "    </tr>\n",
       "    <tr>\n",
       "      <th>52264</th>\n",
       "      <td>M</td>\n",
       "      <td>30.0</td>\n",
       "      <td>170.0</td>\n",
       "      <td>65.0</td>\n",
       "      <td>AUS</td>\n",
       "      <td>1980 Summer</td>\n",
       "      <td>Athletics</td>\n",
       "      <td>No_Medal</td>\n",
       "    </tr>\n",
       "    <tr>\n",
       "      <th>52265</th>\n",
       "      <td>M</td>\n",
       "      <td>23.0</td>\n",
       "      <td>180.0</td>\n",
       "      <td>68.0</td>\n",
       "      <td>CZE</td>\n",
       "      <td>1998 Winter</td>\n",
       "      <td>Nordic Combined</td>\n",
       "      <td>No_Medal</td>\n",
       "    </tr>\n",
       "  </tbody>\n",
       "</table>\n",
       "<p>52266 rows × 8 columns</p>\n",
       "</div>"
      ],
      "text/plain": [
       "      Sex   Age  Height  Weight  NOC        Games            Sport     Medal\n",
       "0       M  24.0   180.0    80.0  CHN  1992 Summer       Basketball  No_Medal\n",
       "1       M  23.0   170.0    60.0  CHN  2012 Summer             Judo  No_Medal\n",
       "2       F  21.0   185.0    82.0  NED  1988 Winter    Speed Skating  No_Medal\n",
       "3       F  21.0   185.0    82.0  NED  1988 Winter    Speed Skating  No_Medal\n",
       "4       F  25.0   185.0    82.0  NED  1992 Winter    Speed Skating  No_Medal\n",
       "...    ..   ...     ...     ...  ...          ...              ...       ...\n",
       "52261   M  20.0   160.0    56.0  IRL  1964 Summer           Boxing  No_Medal\n",
       "52262   M  20.0   192.0    93.0  AUS  2016 Summer         Canoeing  No_Medal\n",
       "52263   M  26.0   170.0    65.0  AUS  1976 Summer        Athletics  No_Medal\n",
       "52264   M  30.0   170.0    65.0  AUS  1980 Summer        Athletics  No_Medal\n",
       "52265   M  23.0   180.0    68.0  CZE  1998 Winter  Nordic Combined  No_Medal\n",
       "\n",
       "[52266 rows x 8 columns]"
      ]
     },
     "execution_count": 10,
     "metadata": {},
     "output_type": "execute_result"
    }
   ],
   "source": [
    "spss_data"
   ]
  },
  {
   "cell_type": "markdown",
   "id": "01c4d8c9",
   "metadata": {},
   "source": [
    "## Eksportovanje podataka za SPSS"
   ]
  },
  {
   "cell_type": "code",
   "execution_count": 14,
   "id": "65fd4b9c",
   "metadata": {},
   "outputs": [],
   "source": [
    "putanja = 'SPSS.csv'\n",
    "spss_data.to_csv(putanja, index=False)"
   ]
  },
  {
   "cell_type": "markdown",
   "id": "cde64ed5",
   "metadata": {},
   "source": [
    "## Kodiranje kategoričkih atributa"
   ]
  },
  {
   "cell_type": "markdown",
   "id": "67f30780",
   "metadata": {},
   "source": [
    "Za pol i igre sam ručno mapiralo, dok sam za ostale atribute koristio label_encoder."
   ]
  },
  {
   "cell_type": "code",
   "execution_count": 8,
   "id": "87b9991f",
   "metadata": {},
   "outputs": [],
   "source": [
    "mapiranje = {'M' : 0, 'F' : 1}\n",
    "\n",
    "nesto['Sex'] = nesto['Sex'].map(mapiranje)\n",
    "nesto['Sport'] = label_encoder.fit_transform(nesto['Sport'])\n",
    "nesto['NOC'] = label_encoder.fit_transform(nesto['NOC'])\n",
    "nesto['Games'] = nesto['Games'].map(mapi)"
   ]
  },
  {
   "cell_type": "code",
   "execution_count": 9,
   "id": "12aa4d73",
   "metadata": {},
   "outputs": [],
   "source": [
    "y = data['Medal']\n",
    "x = nesto.columns.to_list()[:-1]\n",
    "\n",
    "X = nesto[x]\n",
    "# popunjavam None vrednosti sa No_Medal\n",
    "Y = y.fillna('No_Medal')"
   ]
  },
  {
   "cell_type": "code",
   "execution_count": 10,
   "id": "d33b4deb",
   "metadata": {
    "scrolled": false
   },
   "outputs": [
    {
     "data": {
      "text/html": [
       "<div>\n",
       "<style scoped>\n",
       "    .dataframe tbody tr th:only-of-type {\n",
       "        vertical-align: middle;\n",
       "    }\n",
       "\n",
       "    .dataframe tbody tr th {\n",
       "        vertical-align: top;\n",
       "    }\n",
       "\n",
       "    .dataframe thead th {\n",
       "        text-align: right;\n",
       "    }\n",
       "</style>\n",
       "<table border=\"1\" class=\"dataframe\">\n",
       "  <thead>\n",
       "    <tr style=\"text-align: right;\">\n",
       "      <th></th>\n",
       "      <th>Sex</th>\n",
       "      <th>Age</th>\n",
       "      <th>Height</th>\n",
       "      <th>Weight</th>\n",
       "      <th>NOC</th>\n",
       "      <th>Games</th>\n",
       "      <th>Sport</th>\n",
       "    </tr>\n",
       "  </thead>\n",
       "  <tbody>\n",
       "    <tr>\n",
       "      <th>0</th>\n",
       "      <td>0</td>\n",
       "      <td>24.0</td>\n",
       "      <td>180.0</td>\n",
       "      <td>80.0</td>\n",
       "      <td>40</td>\n",
       "      <td>0</td>\n",
       "      <td>6</td>\n",
       "    </tr>\n",
       "    <tr>\n",
       "      <th>1</th>\n",
       "      <td>0</td>\n",
       "      <td>23.0</td>\n",
       "      <td>170.0</td>\n",
       "      <td>60.0</td>\n",
       "      <td>40</td>\n",
       "      <td>0</td>\n",
       "      <td>26</td>\n",
       "    </tr>\n",
       "    <tr>\n",
       "      <th>2</th>\n",
       "      <td>1</td>\n",
       "      <td>21.0</td>\n",
       "      <td>185.0</td>\n",
       "      <td>82.0</td>\n",
       "      <td>140</td>\n",
       "      <td>1</td>\n",
       "      <td>42</td>\n",
       "    </tr>\n",
       "    <tr>\n",
       "      <th>3</th>\n",
       "      <td>1</td>\n",
       "      <td>21.0</td>\n",
       "      <td>185.0</td>\n",
       "      <td>82.0</td>\n",
       "      <td>140</td>\n",
       "      <td>1</td>\n",
       "      <td>42</td>\n",
       "    </tr>\n",
       "    <tr>\n",
       "      <th>4</th>\n",
       "      <td>1</td>\n",
       "      <td>25.0</td>\n",
       "      <td>185.0</td>\n",
       "      <td>82.0</td>\n",
       "      <td>140</td>\n",
       "      <td>1</td>\n",
       "      <td>42</td>\n",
       "    </tr>\n",
       "  </tbody>\n",
       "</table>\n",
       "</div>"
      ],
      "text/plain": [
       "   Sex   Age  Height  Weight  NOC  Games  Sport\n",
       "0    0  24.0   180.0    80.0   40      0      6\n",
       "1    0  23.0   170.0    60.0   40      0     26\n",
       "2    1  21.0   185.0    82.0  140      1     42\n",
       "3    1  21.0   185.0    82.0  140      1     42\n",
       "4    1  25.0   185.0    82.0  140      1     42"
      ]
     },
     "execution_count": 10,
     "metadata": {},
     "output_type": "execute_result"
    }
   ],
   "source": [
    "X.head()"
   ]
  },
  {
   "cell_type": "markdown",
   "id": "9cf5fba1",
   "metadata": {},
   "source": [
    "## Balansiranje podataka"
   ]
  },
  {
   "cell_type": "markdown",
   "id": "4ef3dcbe",
   "metadata": {},
   "source": [
    " Zato sto imamo mnogo vise ljudi bez medalje (45000) nego ljudi sa medaljom (3*2000). Koristio sam SMOTEENN metodu koja je kombinacija over-samplinga i under-samplinga kako bih dobio optimalne podatke"
   ]
  },
  {
   "cell_type": "code",
   "execution_count": 10,
   "id": "3c9c27e6",
   "metadata": {},
   "outputs": [
    {
     "data": {
      "text/plain": [
       "[]"
      ]
     },
     "execution_count": 10,
     "metadata": {},
     "output_type": "execute_result"
    },
    {
     "data": {
      "image/png": "[encoded data removed]",
      "text/plain": [
       "<Figure size 640x480 with 1 Axes>"
      ]
     },
     "metadata": {},
     "output_type": "display_data"
    }
   ],
   "source": [
    "medalje = data.Medal.value_counts()\n",
    "\n",
    "boje = ['#BAB6AA', '#CBA135', '#B67233', '#4E5B31']\n",
    "plt.bar(['Srebro', 'Zlato', 'Bronza', 'Bez medalje'], [medalje[1], medalje[0], medalje[2], data.Medal.isna().sum()], color = boje)\n",
    "plt.title('Nebalansirani podaci')\n",
    "plt.plot()"
   ]
  },
  {
   "cell_type": "code",
   "execution_count": 11,
   "id": "65f76e46",
   "metadata": {},
   "outputs": [],
   "source": [
    "from imblearn.combine import SMOTEENN\n",
    "from collections import Counter\n",
    "from termcolor import colored\n",
    "from sklearn.model_selection import train_test_split\n",
    "from sklearn.preprocessing import MinMaxScaler"
   ]
  },
  {
   "cell_type": "code",
   "execution_count": 12,
   "id": "8a56efd6",
   "metadata": {},
   "outputs": [],
   "source": [
    "def resample(sampler, X, Y):\n",
    "    X_resampled, y_resampled = sampler.fit_resample(X, Y)\n",
    "    print(colored(\"Number of instances before resampling with {} : \\n{}. \".format(type(sampler).__name__,\\\n",
    "                                                                           Counter(Y).items()), \"green\"))\n",
    "    print(colored(\"Number of instances after  resampling with {} : \\n{}. \".format(type(sampler).__name__,\\\n",
    "                                                                        Counter(y_resampled).items()), \"blue\"))\n",
    "    return X_resampled, y_resampled"
   ]
  },
  {
   "cell_type": "code",
   "execution_count": 13,
   "id": "ccff7327",
   "metadata": {},
   "outputs": [
    {
     "name": "stdout",
     "output_type": "stream",
     "text": [
      "\u001b[32mNumber of instances before resampling with SMOTEENN : \n",
      "dict_items([('No_Medal', 45165), ('Bronze', 2346), ('Gold', 2429), ('Silver', 2326)]). \u001b[0m\n",
      "\u001b[34mNumber of instances after  resampling with SMOTEENN : \n",
      "dict_items([('Bronze', 36299), ('Gold', 36438), ('No_Medal', 26405), ('Silver', 35992)]). \u001b[0m\n"
     ]
    }
   ],
   "source": [
    "smoteenn = SMOTEENN(random_state=22, sampling_strategy='auto')\n",
    "X_resampled, y_resampled = resample(smoteenn, X, Y)"
   ]
  },
  {
   "cell_type": "code",
   "execution_count": 14,
   "id": "0b334aec",
   "metadata": {},
   "outputs": [],
   "source": [
    "X_train, X_test, y_train, y_test = train_test_split(X_resampled, y_resampled, test_size=0.3, random_state=22, stratify=y_resampled)"
   ]
  },
  {
   "cell_type": "code",
   "execution_count": 15,
   "id": "1663d989",
   "metadata": {},
   "outputs": [
    {
     "data": {
      "text/plain": [
       "[]"
      ]
     },
     "execution_count": 15,
     "metadata": {},
     "output_type": "execute_result"
    },
    {
     "data": {
      "image/png": "[encoded data removed]",
      "text/plain": [
       "<Figure size 640x480 with 1 Axes>"
      ]
     },
     "metadata": {},
     "output_type": "display_data"
    }
   ],
   "source": [
    "medalje = y_resampled.value_counts()\n",
    "boje = ['#BAB6AA', '#CBA135', '#B67233', '#4E5B31']\n",
    "plt.bar(['Srebro', 'Zlato', 'Bronza', 'Bez medalje'], [medalje[1], medalje[0], medalje[2], medalje[3]], color = boje)\n",
    "plt.title('Balansirani podaci')\n",
    "plt.plot()"
   ]
  },
  {
   "cell_type": "markdown",
   "id": "0abb5722",
   "metadata": {},
   "source": [
    "## Standardizacija podataka"
   ]
  },
  {
   "cell_type": "markdown",
   "id": "fb62c1d1",
   "metadata": {},
   "source": []
  },
  {
   "cell_type": "code",
   "execution_count": 16,
   "id": "18f93e50",
   "metadata": {},
   "outputs": [],
   "source": [
    "scaler = MinMaxScaler()\n",
    "scaler.fit(X_train)\n",
    "X_train_scaled = scaler.transform(X_train)\n",
    "X_test_scaled = scaler.transform(X_test)\n",
    "\n",
    "X_train = pd.DataFrame(data = X_train_scaled, columns = X_train.columns)\n",
    "X_test = pd.DataFrame(data = X_test_scaled, columns = X_test.columns)"
   ]
  },
  {
   "cell_type": "markdown",
   "id": "04f39f40",
   "metadata": {},
   "source": [
    "## Eksportovanje podataka za klasifikaciju"
   ]
  },
  {
   "cell_type": "code",
   "execution_count": 17,
   "id": "c02d63ce",
   "metadata": {
    "scrolled": true
   },
   "outputs": [
    {
     "data": {
      "text/plain": [
       "['classification_data.joblib']"
      ]
     },
     "execution_count": 17,
     "metadata": {},
     "output_type": "execute_result"
    }
   ],
   "source": [
    "joblib.dump((X_train, X_test, y_train, y_test), 'classification_data.joblib')"
   ]
  },
  {
   "cell_type": "markdown",
   "id": "178b933f",
   "metadata": {},
   "source": [
    "## Standardizacija podataka za klasterovanje"
   ]
  },
  {
   "cell_type": "code",
   "execution_count": 18,
   "id": "9c6cd30d",
   "metadata": {},
   "outputs": [],
   "source": [
    "# nesto['Medal'] = label_encoder.fit_transform(nesto['Medal'])\n",
    "x = nesto.columns.to_list()\n",
    "X = nesto[x]\n",
    "X.drop(columns='Medal', inplace=True)"
   ]
  },
  {
   "cell_type": "code",
   "execution_count": 19,
   "id": "7bded95b",
   "metadata": {
    "scrolled": true
   },
   "outputs": [
    {
     "data": {
      "text/html": [
       "<div>\n",
       "<style scoped>\n",
       "    .dataframe tbody tr th:only-of-type {\n",
       "        vertical-align: middle;\n",
       "    }\n",
       "\n",
       "    .dataframe tbody tr th {\n",
       "        vertical-align: top;\n",
       "    }\n",
       "\n",
       "    .dataframe thead th {\n",
       "        text-align: right;\n",
       "    }\n",
       "</style>\n",
       "<table border=\"1\" class=\"dataframe\">\n",
       "  <thead>\n",
       "    <tr style=\"text-align: right;\">\n",
       "      <th></th>\n",
       "      <th>Sex</th>\n",
       "      <th>Age</th>\n",
       "      <th>Height</th>\n",
       "      <th>Weight</th>\n",
       "      <th>NOC</th>\n",
       "      <th>Games</th>\n",
       "      <th>Sport</th>\n",
       "    </tr>\n",
       "  </thead>\n",
       "  <tbody>\n",
       "    <tr>\n",
       "      <th>0</th>\n",
       "      <td>0.0</td>\n",
       "      <td>0.226415</td>\n",
       "      <td>0.552083</td>\n",
       "      <td>0.291005</td>\n",
       "      <td>0.180995</td>\n",
       "      <td>0.0</td>\n",
       "      <td>0.111111</td>\n",
       "    </tr>\n",
       "    <tr>\n",
       "      <th>1</th>\n",
       "      <td>0.0</td>\n",
       "      <td>0.207547</td>\n",
       "      <td>0.447917</td>\n",
       "      <td>0.185185</td>\n",
       "      <td>0.180995</td>\n",
       "      <td>0.0</td>\n",
       "      <td>0.481481</td>\n",
       "    </tr>\n",
       "    <tr>\n",
       "      <th>2</th>\n",
       "      <td>1.0</td>\n",
       "      <td>0.169811</td>\n",
       "      <td>0.604167</td>\n",
       "      <td>0.301587</td>\n",
       "      <td>0.633484</td>\n",
       "      <td>1.0</td>\n",
       "      <td>0.777778</td>\n",
       "    </tr>\n",
       "    <tr>\n",
       "      <th>3</th>\n",
       "      <td>1.0</td>\n",
       "      <td>0.169811</td>\n",
       "      <td>0.604167</td>\n",
       "      <td>0.301587</td>\n",
       "      <td>0.633484</td>\n",
       "      <td>1.0</td>\n",
       "      <td>0.777778</td>\n",
       "    </tr>\n",
       "    <tr>\n",
       "      <th>4</th>\n",
       "      <td>1.0</td>\n",
       "      <td>0.245283</td>\n",
       "      <td>0.604167</td>\n",
       "      <td>0.301587</td>\n",
       "      <td>0.633484</td>\n",
       "      <td>1.0</td>\n",
       "      <td>0.777778</td>\n",
       "    </tr>\n",
       "    <tr>\n",
       "      <th>...</th>\n",
       "      <td>...</td>\n",
       "      <td>...</td>\n",
       "      <td>...</td>\n",
       "      <td>...</td>\n",
       "      <td>...</td>\n",
       "      <td>...</td>\n",
       "      <td>...</td>\n",
       "    </tr>\n",
       "    <tr>\n",
       "      <th>52261</th>\n",
       "      <td>0.0</td>\n",
       "      <td>0.150943</td>\n",
       "      <td>0.343750</td>\n",
       "      <td>0.164021</td>\n",
       "      <td>0.420814</td>\n",
       "      <td>0.0</td>\n",
       "      <td>0.185185</td>\n",
       "    </tr>\n",
       "    <tr>\n",
       "      <th>52262</th>\n",
       "      <td>0.0</td>\n",
       "      <td>0.150943</td>\n",
       "      <td>0.677083</td>\n",
       "      <td>0.359788</td>\n",
       "      <td>0.054299</td>\n",
       "      <td>0.0</td>\n",
       "      <td>0.203704</td>\n",
       "    </tr>\n",
       "    <tr>\n",
       "      <th>52263</th>\n",
       "      <td>0.0</td>\n",
       "      <td>0.264151</td>\n",
       "      <td>0.447917</td>\n",
       "      <td>0.211640</td>\n",
       "      <td>0.054299</td>\n",
       "      <td>0.0</td>\n",
       "      <td>0.055556</td>\n",
       "    </tr>\n",
       "    <tr>\n",
       "      <th>52264</th>\n",
       "      <td>0.0</td>\n",
       "      <td>0.339623</td>\n",
       "      <td>0.447917</td>\n",
       "      <td>0.211640</td>\n",
       "      <td>0.054299</td>\n",
       "      <td>0.0</td>\n",
       "      <td>0.055556</td>\n",
       "    </tr>\n",
       "    <tr>\n",
       "      <th>52265</th>\n",
       "      <td>0.0</td>\n",
       "      <td>0.207547</td>\n",
       "      <td>0.552083</td>\n",
       "      <td>0.227513</td>\n",
       "      <td>0.235294</td>\n",
       "      <td>1.0</td>\n",
       "      <td>0.555556</td>\n",
       "    </tr>\n",
       "  </tbody>\n",
       "</table>\n",
       "<p>52266 rows × 7 columns</p>\n",
       "</div>"
      ],
      "text/plain": [
       "       Sex       Age    Height    Weight       NOC  Games     Sport\n",
       "0      0.0  0.226415  0.552083  0.291005  0.180995    0.0  0.111111\n",
       "1      0.0  0.207547  0.447917  0.185185  0.180995    0.0  0.481481\n",
       "2      1.0  0.169811  0.604167  0.301587  0.633484    1.0  0.777778\n",
       "3      1.0  0.169811  0.604167  0.301587  0.633484    1.0  0.777778\n",
       "4      1.0  0.245283  0.604167  0.301587  0.633484    1.0  0.777778\n",
       "...    ...       ...       ...       ...       ...    ...       ...\n",
       "52261  0.0  0.150943  0.343750  0.164021  0.420814    0.0  0.185185\n",
       "52262  0.0  0.150943  0.677083  0.359788  0.054299    0.0  0.203704\n",
       "52263  0.0  0.264151  0.447917  0.211640  0.054299    0.0  0.055556\n",
       "52264  0.0  0.339623  0.447917  0.211640  0.054299    0.0  0.055556\n",
       "52265  0.0  0.207547  0.552083  0.227513  0.235294    1.0  0.555556\n",
       "\n",
       "[52266 rows x 7 columns]"
      ]
     },
     "execution_count": 19,
     "metadata": {},
     "output_type": "execute_result"
    }
   ],
   "source": [
    "X_scaled = scaler.fit_transform(X)\n",
    "X_scaled = pd.DataFrame(data=X_scaled, columns=X.columns)\n",
    "X_scaled"
   ]
  },
  {
   "cell_type": "markdown",
   "id": "a954936b",
   "metadata": {},
   "source": [
    "## Eksportovanje podataka za klasterovanje"
   ]
  },
  {
   "cell_type": "code",
   "execution_count": 20,
   "id": "4ace2a95",
   "metadata": {},
   "outputs": [
    {
     "data": {
      "text/plain": [
       "['clustering_data.joblib']"
      ]
     },
     "execution_count": 20,
     "metadata": {},
     "output_type": "execute_result"
    }
   ],
   "source": [
    "joblib.dump((X_scaled, Y), 'clustering_data.joblib')"
   ]
  },
  {
   "cell_type": "code",
   "execution_count": 6,
   "id": "84a5f7b1",
   "metadata": {},
   "outputs": [
    {
     "data": {
      "text/plain": [
       "2016"
      ]
     },
     "execution_count": 6,
     "metadata": {},
     "output_type": "execute_result"
    }
   ],
   "source": [
    "max(data.Year)"
   ]
  },
  {
   "cell_type": "code",
   "execution_count": null,
   "id": "1865fa95",
   "metadata": {},
   "outputs": [],
   "source": []
  }
 ],
 "metadata": {
  "kernelspec": {
   "display_name": "Python 3 (ipykernel)",
   "language": "python",
   "name": "python3"
  },
  "language_info": {
   "codemirror_mode": {
    "name": "ipython",
    "version": 3
   },
   "file_extension": ".py",
   "mimetype": "text/x-python",
   "name": "python",
   "nbconvert_exporter": "python",
   "pygments_lexer": "ipython3",
   "version": "3.10.12"
  }
 },
 "nbformat": 4,
 "nbformat_minor": 5
}
